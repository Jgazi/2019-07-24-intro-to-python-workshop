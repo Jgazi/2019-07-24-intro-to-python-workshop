{
 "cells": [
  {
   "cell_type": "markdown",
   "metadata": {},
   "source": [
    "# Programming with Python\n",
    "\n",
    "## Episode 1 - Introduction - Analyzing Patient Data\n",
    "\n",
    "Teaching: 60 min, \n",
    "Exercises: 30 min \n"
   ]
  },
  {
   "cell_type": "markdown",
   "metadata": {},
   "source": [
    "Objectives\n",
    " \n",
    "- Assign values to variables.\n",
    "\n",
    "- Explain what a library is and what libraries are used for.\n",
    "\n",
    "- Import a Python library and use the functions it contains.\n",
    "\n",
    "- Read tabular data from a file into a program.\n",
    "\n",
    "- Select individual values and subsections from data.\n",
    "\n",
    "- Perform operations on arrays of data.\n",
    "\n",
    "- Plot simple graphs from data."
   ]
  },
  {
   "cell_type": "markdown",
   "metadata": {},
   "source": [
    "## Our Dataset\n",
    "In this episode we will learn how to work with CSV files in Python. Our dataset contains patient inflammation data - where each row represents a different patient and the column represent inflammation data over a series of days. \n",
    "\n",
    "![Data Files](data/inflammation-excel.png)\n",
    "\n",
    "\n",
    "However, before we discuss how to deal with many data points, let’s learn how to work with single data values.\n",
    "\n"
   ]
  },
  {
   "cell_type": "markdown",
   "metadata": {},
   "source": [
    "## Variables\n",
    "Any Python interpreter can be used as a calculator:\n",
    "\n",
    "```\n",
    "3 + 5 * 4\n",
    "```"
   ]
  },
  {
   "cell_type": "code",
   "execution_count": 1,
   "metadata": {},
   "outputs": [
    {
     "data": {
      "text/plain": [
       "23"
      ]
     },
     "execution_count": 1,
     "metadata": {},
     "output_type": "execute_result"
    }
   ],
   "source": [
    "3 + 5 * 4"
   ]
  },
  {
   "cell_type": "markdown",
   "metadata": {},
   "source": [
    "This is great but not very interesting. To do anything useful with data, we need to assign its value to a variable. In Python, we can assign a value to a variable, using the equals sign =. For example, to assign value 60 to a variable weight_kg, we would execute:\n",
    "\n",
    "```\n",
    "weight_kg = 60\n",
    "```"
   ]
  },
  {
   "cell_type": "code",
   "execution_count": 2,
   "metadata": {},
   "outputs": [],
   "source": [
    "weight_kg = 60 "
   ]
  },
  {
   "cell_type": "markdown",
   "metadata": {},
   "source": [
    "From now on, whenever we use weight_kg, Python will substitute the value we assigned to it. In essence, a variable is just a name for a value.\n",
    "\n",
    "```\n",
    "weight_kg + 5\n",
    "```"
   ]
  },
  {
   "cell_type": "code",
   "execution_count": 5,
   "metadata": {},
   "outputs": [
    {
     "data": {
      "text/plain": [
       "65"
      ]
     },
     "execution_count": 5,
     "metadata": {},
     "output_type": "execute_result"
    }
   ],
   "source": [
    "weight_kg + 5"
   ]
  },
  {
   "cell_type": "markdown",
   "metadata": {},
   "source": [
    "In Python, variable names:\n",
    "\n",
    "- can include letters, digits, and underscores - `A-z, a-z, _`\n",
    "- cannot start with a digit\n",
    "- are case sensitive.\n",
    "\n",
    "This means that, for example:\n",
    "\n",
    "`weight0` is a valid variable name, whereas `0weight` is not\n",
    "`weight` and `Weight` are different variables\n",
    "\n",
    "#### Types of data\n",
    "Python knows various types of data. Three common ones are:\n",
    "\n",
    "- integer numbers (whole numbers)\n",
    "- floating point numbers (numbers with a decimal point)\n",
    "- and strings (of characters).\n",
    "\n",
    "In the example above, variable `weight_kg` has an integer value of `60`. To create a variable with a floating point value, we can execute:\n",
    "\n",
    "```\n",
    "weight_kg = 60.0\n",
    "```"
   ]
  },
  {
   "cell_type": "code",
   "execution_count": 6,
   "metadata": {},
   "outputs": [],
   "source": [
    "weight_kg = 60.0"
   ]
  },
  {
   "cell_type": "code",
   "execution_count": 7,
   "metadata": {},
   "outputs": [
    {
     "name": "stdout",
     "output_type": "stream",
     "text": [
      "<class 'float'>\n"
     ]
    }
   ],
   "source": [
    "print(type(weight_kg))"
   ]
  },
  {
   "cell_type": "markdown",
   "metadata": {},
   "source": [
    "And to create a string we simply have to add single or double quotes around some text, for example:\n",
    "\n",
    "```\n",
    "weight_kg_text = 'weight in kilograms:'\n",
    "```\n",
    "\n",
    "To display the value of a variable to the screen in Python, we can use the print function:\n",
    "\n",
    "```\n",
    "print(weight_kg)\n",
    "```"
   ]
  },
  {
   "cell_type": "code",
   "execution_count": 9,
   "metadata": {},
   "outputs": [],
   "source": [
    "weight_kg_text = \"weight in kilograms\""
   ]
  },
  {
   "cell_type": "markdown",
   "metadata": {},
   "source": [
    "We can display multiple things at once using only one print command:\n",
    "\n",
    "```\n",
    "print(weight_kg_text, weight_kg)\n",
    "```"
   ]
  },
  {
   "cell_type": "code",
   "execution_count": 10,
   "metadata": {},
   "outputs": [
    {
     "name": "stdout",
     "output_type": "stream",
     "text": [
      "weight in kilograms 60.0\n"
     ]
    }
   ],
   "source": [
    "print(weight_kg_text, weight_kg)"
   ]
  },
  {
   "cell_type": "markdown",
   "metadata": {},
   "source": [
    "Moreover, we can do arithmetic with variables right inside the print function:\n",
    "\n",
    "```\n",
    "print('weight in pounds:', 2.2 * weight_kg)\n",
    "```"
   ]
  },
  {
   "cell_type": "code",
   "execution_count": 11,
   "metadata": {},
   "outputs": [
    {
     "name": "stdout",
     "output_type": "stream",
     "text": [
      "weight in pounds: 132.0\n"
     ]
    }
   ],
   "source": [
    "print('weight in pounds:', 2.2 * weight_kg)"
   ]
  },
  {
   "cell_type": "markdown",
   "metadata": {},
   "source": [
    "The above command, however, did not change the value of weight_kg:\n",
    "\n",
    "```\n",
    "print(weight_kg)\n",
    "```"
   ]
  },
  {
   "cell_type": "code",
   "execution_count": 12,
   "metadata": {},
   "outputs": [
    {
     "name": "stdout",
     "output_type": "stream",
     "text": [
      "60.0\n"
     ]
    }
   ],
   "source": [
    "print(weight_kg)"
   ]
  },
  {
   "cell_type": "code",
   "execution_count": 13,
   "metadata": {},
   "outputs": [],
   "source": [
    "weight_kg = 65.0"
   ]
  },
  {
   "cell_type": "markdown",
   "metadata": {},
   "source": [
    "To change the value of the ``weight_kg variable, we have to assign `weight_kg` a new value using the equals `=` sign:\n",
    "\n",
    "```\n",
    "weight_kg = 65.0\n",
    "print('weight in kilograms is now:', weight_kg)\n",
    "```"
   ]
  },
  {
   "cell_type": "code",
   "execution_count": 14,
   "metadata": {},
   "outputs": [
    {
     "name": "stdout",
     "output_type": "stream",
     "text": [
      "weight in kilograms is now: 65.0\n"
     ]
    }
   ],
   "source": [
    "print('weight in kilograms is now:', weight_kg)"
   ]
  },
  {
   "cell_type": "markdown",
   "metadata": {},
   "source": [
    "#### Variables as Sticky Notes\n",
    "\n",
    "A variable is analogous to a sticky note with a name written on it: assigning a value to a variable is like writing a value on the sticky note with a particular name.\n",
    "\n",
    "This means that assigning a value to one variable does not change values of other variables (or sticky notes). For example, let’s store the subject’s weight in pounds in its own variable:\n",
    "\n",
    "```\n",
    "# There are 2.2 pounds per kilogram\n",
    "weight_lb = 2.2 * weight_kg\n",
    "print(weight_kg_text, weight_kg, 'and in pounds:', weight_lb)\n",
    "```"
   ]
  },
  {
   "cell_type": "code",
   "execution_count": 28,
   "metadata": {},
   "outputs": [],
   "source": [
    "weight_lb = 2.2 * weight_kg"
   ]
  },
  {
   "cell_type": "code",
   "execution_count": 16,
   "metadata": {},
   "outputs": [
    {
     "name": "stdout",
     "output_type": "stream",
     "text": [
      "weight in kilograms 65.0 and in pounds: 143.0\n"
     ]
    }
   ],
   "source": [
    "print(weight_kg_text, weight_kg, 'and in pounds:', weight_lb)"
   ]
  },
  {
   "cell_type": "markdown",
   "metadata": {},
   "source": [
    "#### Updating a Variable\n",
    "\n",
    "Variables calculated from other variables do not change value just because the orignal variable change value (unlike cells in Excel):\n",
    "\n",
    "```\n",
    "weight_kg = 100.0\n",
    "print('weight in kilograms is now:', weight_kg, 'and weight in pounds is still:', weight_lb)\n",
    "```"
   ]
  },
  {
   "cell_type": "code",
   "execution_count": 36,
   "metadata": {},
   "outputs": [
    {
     "name": "stdout",
     "output_type": "stream",
     "text": [
      "weight_kg 93.0\n",
      "weight_lb 204.60000000000002\n"
     ]
    }
   ],
   "source": [
    "weight_kg = 93.0\n",
    "print(\"weight_kg\", weight_kg)\n",
    "weight_lb = weight_kg*2.2\n",
    "print(\"weight_lb\", weight_lb)"
   ]
  },
  {
   "cell_type": "code",
   "execution_count": 29,
   "metadata": {},
   "outputs": [
    {
     "name": "stdout",
     "output_type": "stream",
     "text": [
      "weight in kilograms is now: 100.0 and weight in pounds is now: 220.00000000000003\n"
     ]
    }
   ],
   "source": [
    "print('weight in kilograms is now:', weight_kg, 'and weight in pounds is now:', weight_lb)"
   ]
  },
  {
   "cell_type": "markdown",
   "metadata": {},
   "source": [
    "Since `weight_lb` doesn’t *remember* where its value comes from, so it is not updated when we change `weight_kg`."
   ]
  },
  {
   "cell_type": "markdown",
   "metadata": {},
   "source": [
    "## Libraries\n",
    "\n",
    "Words are useful, but what’s more useful are the sentences and stories we build with them (or indeed entire books or whole libraries). Similarly, while a lot of powerful, general tools are built into Python, specialized tools built up from these basic units live in *libraries* that can be called upon when needed."
   ]
  },
  {
   "cell_type": "markdown",
   "metadata": {},
   "source": [
    "### Loading data into Python\n",
    "\n",
    "In order to load our inflammation dataset into Python, we need to access (import in Python terminology) a library called `NumPy` (which stands for Numerical Python). \n",
    "\n",
    "In general you should use this library if you want to do fancy things with numbers, especially if you have matrices or arrays. We can import `NumPy` using:\n",
    "\n",
    "```\n",
    "import numpy\n",
    "```"
   ]
  },
  {
   "cell_type": "code",
   "execution_count": 1,
   "metadata": {},
   "outputs": [],
   "source": [
    "import numpy"
   ]
  },
  {
   "cell_type": "markdown",
   "metadata": {},
   "source": [
    "Importing a library is like getting a piece of lab equipment out of a storage locker and setting it up on the bench. Libraries provide additional functionality to the basic Python package, much like a new piece of equipment adds functionality to a lab space. Just like in the lab, importing too many libraries can sometimes complicate and slow down your programs - so we only import what we need for each program. Once we’ve imported the library, we can ask the library to read our data file for us:\n",
    "\n",
    "```\n",
    "numpy.loadtxt(fname='data/inflammation-01.csv', delimiter=',')\n",
    "```"
   ]
  },
  {
   "cell_type": "code",
   "execution_count": 2,
   "metadata": {},
   "outputs": [
    {
     "data": {
      "text/plain": [
       "array([[0., 0., 1., ..., 3., 0., 0.],\n",
       "       [0., 1., 2., ..., 1., 0., 1.],\n",
       "       [0., 1., 1., ..., 2., 1., 1.],\n",
       "       ...,\n",
       "       [0., 1., 1., ..., 1., 1., 1.],\n",
       "       [0., 0., 0., ..., 0., 2., 0.],\n",
       "       [0., 0., 1., ..., 1., 1., 0.]])"
      ]
     },
     "execution_count": 2,
     "metadata": {},
     "output_type": "execute_result"
    }
   ],
   "source": [
    "numpy.loadtxt(fname='data/inflammation-01.csv', delimiter=',')"
   ]
  },
  {
   "cell_type": "markdown",
   "metadata": {},
   "source": [
    "The expression `numpy.loadtxt(...)` is a function call that asks Python to run the function `loadtxt` which belongs to the `numpy` library. This dot `.` notation is used everywhere in Python: the thing that appears before the dot contains the thing that appears after.\n",
    "\n",
    "As an example, John Smith is the John that belongs to the Smith family. We could use the dot notation to write his name smith.john, just as `loadtxt` is a function that belongs to the `numpy` library.\n",
    "\n",
    "`numpy.loadtxt` has two parameters: the name of the file we want to read and the delimiter that separates values on a line. These both need to be character strings (or strings for short), so we put them in quotes.\n",
    "\n",
    "Since we haven’t told it to do anything else with the function’s output, the notebook displays it. In this case, that output is the data we just loaded. By default, only a few rows and columns are shown (with ... to omit elements when displaying big arrays). To save space, Python displays numbers as 1. instead of 1.0 when there’s nothing interesting after the decimal point.\n",
    "\n",
    "Our call to `numpy.loadtxt` read our file but didn’t save the data in memory. To do that, we need to assign the array to a variable. Just as we can assign a single value to a variable, we can also assign an array of values to a variable using the same syntax. Let’s re-run `numpy.loadtxt` and save the returned data:\n",
    "\n",
    "```\n",
    "data = numpy.loadtxt(fname='data/inflammation-01.csv', delimiter=',')\n",
    "```"
   ]
  },
  {
   "cell_type": "code",
   "execution_count": 3,
   "metadata": {},
   "outputs": [],
   "source": [
    "data = numpy.loadtxt(fname='data/inflammation-01.csv', delimiter=',')"
   ]
  },
  {
   "cell_type": "code",
   "execution_count": 4,
   "metadata": {},
   "outputs": [
    {
     "data": {
      "text/plain": [
       "array([[0., 0., 1., ..., 3., 0., 0.],\n",
       "       [0., 1., 2., ..., 1., 0., 1.],\n",
       "       [0., 1., 1., ..., 2., 1., 1.],\n",
       "       ...,\n",
       "       [0., 1., 1., ..., 1., 1., 1.],\n",
       "       [0., 0., 0., ..., 0., 2., 0.],\n",
       "       [0., 0., 1., ..., 1., 1., 0.]])"
      ]
     },
     "execution_count": 4,
     "metadata": {},
     "output_type": "execute_result"
    }
   ],
   "source": [
    "numpy.loadtxt(fname='data/inflammation-01.csv', delimiter=',')"
   ]
  },
  {
   "cell_type": "markdown",
   "metadata": {},
   "source": [
    "This statement doesn’t produce any output because we’ve assigned the output to the variable `data`. If we want to check that the data has been loaded, we can print the variable’s value:\n",
    "\n",
    "```\n",
    "print(data)\n",
    "```"
   ]
  },
  {
   "cell_type": "code",
   "execution_count": 5,
   "metadata": {},
   "outputs": [
    {
     "name": "stdout",
     "output_type": "stream",
     "text": [
      "[[0. 0. 1. ... 3. 0. 0.]\n",
      " [0. 1. 2. ... 1. 0. 1.]\n",
      " [0. 1. 1. ... 2. 1. 1.]\n",
      " ...\n",
      " [0. 1. 1. ... 1. 1. 1.]\n",
      " [0. 0. 0. ... 0. 2. 0.]\n",
      " [0. 0. 1. ... 1. 1. 0.]]\n"
     ]
    }
   ],
   "source": [
    "print(data)"
   ]
  },
  {
   "cell_type": "markdown",
   "metadata": {},
   "source": [
    "Now that the data is in memory, we can manipulate it. First, let’s ask Python what type of thing `data` refers to:\n",
    "\n",
    "```\n",
    "print(type(data))\n",
    "```"
   ]
  },
  {
   "cell_type": "code",
   "execution_count": 6,
   "metadata": {},
   "outputs": [
    {
     "name": "stdout",
     "output_type": "stream",
     "text": [
      "<class 'numpy.ndarray'>\n"
     ]
    }
   ],
   "source": [
    "print(type(data))"
   ]
  },
  {
   "cell_type": "markdown",
   "metadata": {},
   "source": [
    "The output tells us that data currently refers to an N-dimensional array, the functionality for which is provided by the `NumPy` library. This data correspond to arthritis patients’ inflammation. The rows are the individual patients, and the columns are their daily inflammation measurements.\n",
    "\n",
    "#### Data Type\n",
    "\n",
    "A NumPy array contains one or more elements of the same type. The type function will only tell you that a variable is a NumPy array but won’t tell you the type of thing inside the array. We can find out the type of the data contained in the NumPy array.\n",
    "\n",
    "```\n",
    "print(data.dtype)\n",
    "```"
   ]
  },
  {
   "cell_type": "code",
   "execution_count": 7,
   "metadata": {},
   "outputs": [
    {
     "name": "stdout",
     "output_type": "stream",
     "text": [
      "float64\n"
     ]
    }
   ],
   "source": [
    "print(data.dtype)"
   ]
  },
  {
   "cell_type": "markdown",
   "metadata": {},
   "source": [
    "This tells us that the NumPy array’s elements are floating-point numbers.\n",
    "\n",
    "With the following command, we can see the array’s shape:\n",
    "\n",
    "```\n",
    "print(data.shape)\n",
    "```"
   ]
  },
  {
   "cell_type": "code",
   "execution_count": 8,
   "metadata": {},
   "outputs": [
    {
     "name": "stdout",
     "output_type": "stream",
     "text": [
      "(60, 40)\n"
     ]
    }
   ],
   "source": [
    "print(data.shape)"
   ]
  },
  {
   "cell_type": "markdown",
   "metadata": {},
   "source": [
    "The output tells us that the data array variable contains 60 rows and 40 columns. When we created the variable data to store our arthritis data, we didn’t just create the array; we also created information about the array, called members or attributes. This extra information describes data in the same way an adjective describes a noun. data.shape is an attribute of data which describes the dimensions of data. We use the same dotted notation for the attributes of variables that we use for the functions in libraries because they have the same part-and-whole relationship.\n",
    "\n",
    "If we want to get a single number from the array, we must provide an index in square brackets after the variable name, just as we do in math when referring to an element of a matrix. Our inflammation data has two dimensions, so we will need to use two indices to refer to one specific value:\n",
    "\n",
    "```\n",
    "print('first value in data:', data[0, 0])\n",
    "print('middle value in data:', data[30, 20])\n",
    "```"
   ]
  },
  {
   "cell_type": "code",
   "execution_count": 9,
   "metadata": {},
   "outputs": [
    {
     "name": "stdout",
     "output_type": "stream",
     "text": [
      "first value in data: 0.0\n"
     ]
    }
   ],
   "source": [
    "print('first value in data:', data[0, 0])"
   ]
  },
  {
   "cell_type": "code",
   "execution_count": 10,
   "metadata": {},
   "outputs": [
    {
     "name": "stdout",
     "output_type": "stream",
     "text": [
      "middle value in data: 13.0\n"
     ]
    }
   ],
   "source": [
    "print('middle value in data:', data[30, 20])"
   ]
  },
  {
   "cell_type": "markdown",
   "metadata": {},
   "source": [
    "The expression `data[30, 20]` accesses the element at row 30, column 20. While this expression may not surprise you, `data[0, 0]` might. \n",
    "\n",
    "#### Zero Indexing\n",
    "\n",
    "Programming languages like Fortran, MATLAB and R start counting at 1 because that’s what human beings have done for thousands of years. Languages in the C family (including C++, Java, Perl, and Python) count from 0 because it represents an offset from the first value in the array (the second value is offset by one index from the first value). This is closer to the way that computers represent arrays (if you are interested in the historical reasons behind counting indices from zero, you can read Mike Hoye’s blog post). \n",
    "\n",
    "As a result, if we have an M×N array in Python, its indices go from 0 to M-1 on the first axis and 0 to N-1 on the second. It takes a bit of getting used to, but one way to remember the rule is that the index is how many steps we have to take from the start to get the item we want."
   ]
  },
  {
   "cell_type": "markdown",
   "metadata": {},
   "source": [
    "#### In the Corner\n",
    "\n",
    "What may also surprise you is that when Python displays an array, it shows the element with index `[0, 0]` in the upper left corner rather than the lower left. This is consistent with the way mathematicians draw matrices but different from the Cartesian coordinates. The indices are (row, column) instead of (column, row) for the same reason, which can be confusing when plotting data."
   ]
  },
  {
   "cell_type": "markdown",
   "metadata": {},
   "source": [
    "#### Slicing data\n",
    "\n",
    "An index like `[30, 20]` selects a single element of an array, but we can select whole sections as well. For example, we can select the first ten days (columns) of values for the first four patients (rows) like this:\n",
    "\n",
    "```\n",
    "print(data[0:4, 0:10])\n",
    "```"
   ]
  },
  {
   "cell_type": "code",
   "execution_count": 11,
   "metadata": {},
   "outputs": [
    {
     "name": "stdout",
     "output_type": "stream",
     "text": [
      "[[0. 0. 1. 3. 1. 2. 4. 7. 8. 3.]\n",
      " [0. 1. 2. 1. 2. 1. 3. 2. 2. 6.]\n",
      " [0. 1. 1. 3. 3. 2. 6. 2. 5. 9.]\n",
      " [0. 0. 2. 0. 4. 2. 2. 1. 6. 7.]]\n"
     ]
    }
   ],
   "source": [
    "print(data[0:4, 0:10])"
   ]
  },
  {
   "cell_type": "markdown",
   "metadata": {},
   "source": [
    "The slice `[0:4]` means, *Start at index 0 and go up to, but not including, index 4*. \n",
    "\n",
    "Again, the up-to-but-not-including takes a bit of getting used to, but the rule is that the difference between the upper and lower bounds is the number of values in the slice.\n",
    "\n",
    "Also, we don’t have to start slices at `0`:\n",
    "\n",
    "```\n",
    "print(data[5:10, 0:10])\n",
    "```"
   ]
  },
  {
   "cell_type": "code",
   "execution_count": 12,
   "metadata": {},
   "outputs": [
    {
     "name": "stdout",
     "output_type": "stream",
     "text": [
      "[[0. 0. 1. 2. 2. 4. 2. 1. 6. 4.]\n",
      " [0. 0. 2. 2. 4. 2. 2. 5. 5. 8.]\n",
      " [0. 0. 1. 2. 3. 1. 2. 3. 5. 3.]\n",
      " [0. 0. 0. 3. 1. 5. 6. 5. 5. 8.]\n",
      " [0. 1. 1. 2. 1. 3. 5. 3. 5. 8.]]\n"
     ]
    }
   ],
   "source": [
    "print(data[5:10, 0:10])"
   ]
  },
  {
   "cell_type": "markdown",
   "metadata": {},
   "source": [
    "and we don’t have to include the upper or lower bound on the slice. \n",
    "\n",
    "If we don’t include the lower bound, Python uses 0 by default; if we don’t include the upper, the slice runs to the end of the axis, and if we don’t include either (i.e., if we just use `:` on its own), the slice includes everything:\n",
    "\n",
    "```\n",
    "small = data[:3, 36:]\n",
    "print('small is:')\n",
    "print(small)\n",
    "```"
   ]
  },
  {
   "cell_type": "code",
   "execution_count": 13,
   "metadata": {},
   "outputs": [
    {
     "name": "stdout",
     "output_type": "stream",
     "text": [
      "small is:\n",
      "[[2. 3. 0. 0.]\n",
      " [1. 1. 0. 1.]\n",
      " [2. 2. 1. 1.]]\n"
     ]
    }
   ],
   "source": [
    "small = data[:3, 36:]\n",
    "print(\"small is:\")\n",
    "print(small)"
   ]
  },
  {
   "cell_type": "markdown",
   "metadata": {},
   "source": [
    "The above example selects rows 0 through 2 and columns 36 through to the end of the array.\n",
    "\n",
    "thus small is:\n",
    "```\n",
    "[[ 2.  3.  0.  0.]\n",
    " [ 1.  1.  0.  1.]\n",
    " [ 2.  2.  1.  1.]]\n",
    "```\n",
    "\n",
    "Arrays also know how to perform common mathematical operations on their values. The simplest operations with data are arithmetic: addition, subtraction, multiplication, and division. When you do such operations on arrays, the operation is done element-by-element. Thus:\n",
    "\n",
    "```\n",
    "doubledata = data * 2.0\n",
    "```"
   ]
  },
  {
   "cell_type": "code",
   "execution_count": 14,
   "metadata": {},
   "outputs": [],
   "source": [
    "doubledata = data * 2.0"
   ]
  },
  {
   "cell_type": "markdown",
   "metadata": {},
   "source": [
    "will create a new array doubledata each element of which is twice the value of the corresponding element in data:\n",
    "\n",
    "```\n",
    "print('original:')\n",
    "print(data[:3, 36:])\n",
    "print('doubledata:')\n",
    "print(doubledata[:3, 36:])\n",
    "```"
   ]
  },
  {
   "cell_type": "code",
   "execution_count": 15,
   "metadata": {},
   "outputs": [
    {
     "name": "stdout",
     "output_type": "stream",
     "text": [
      "original:\n",
      "[[2. 3. 0. 0.]\n",
      " [1. 1. 0. 1.]\n",
      " [2. 2. 1. 1.]]\n",
      "doubledata:\n",
      "[[4. 6. 0. 0.]\n",
      " [2. 2. 0. 2.]\n",
      " [4. 4. 2. 2.]]\n"
     ]
    }
   ],
   "source": [
    "print(\"original:\")\n",
    "print(data[:3, 36:])\n",
    "print(\"doubledata:\")\n",
    "print(doubledata[:3, 36:])"
   ]
  },
  {
   "cell_type": "markdown",
   "metadata": {},
   "source": [
    "If, instead of taking an array and doing arithmetic with a single value (as above), you did the arithmetic operation with another array of the same shape, the operation will be done on corresponding elements of the two arrays. Thus:\n",
    "\n",
    "```\n",
    "tripledata = doubledata + data\n",
    "```"
   ]
  },
  {
   "cell_type": "code",
   "execution_count": 16,
   "metadata": {},
   "outputs": [],
   "source": [
    "tripledata = doubledata + data"
   ]
  },
  {
   "cell_type": "markdown",
   "metadata": {},
   "source": [
    "will give you an array where `tripledata[0,0]` will equal `doubledata[0,0]` plus `data[0,0]`, and so on for all other elements of the arrays.\n",
    "\n",
    "```\n",
    "print('tripledata:')\n",
    "print(tripledata[:3, 36:])\n",
    "```"
   ]
  },
  {
   "cell_type": "code",
   "execution_count": 17,
   "metadata": {},
   "outputs": [
    {
     "name": "stdout",
     "output_type": "stream",
     "text": [
      "tripledata:\n",
      "[[6. 9. 0. 0.]\n",
      " [3. 3. 0. 3.]\n",
      " [6. 6. 3. 3.]]\n"
     ]
    }
   ],
   "source": [
    "print(\"tripledata:\")\n",
    "print(tripledata[:3, 36:])"
   ]
  },
  {
   "cell_type": "markdown",
   "metadata": {},
   "source": [
    "Often, we want to do more than add, subtract, multiply, and divide array elements. NumPy knows how to do more complex operations, too. If we want to find the average inflammation for all patients on all days, for example, we can ask NumPy to compute data’s mean value:\n",
    "\n",
    "```\n",
    "\n",
    "```"
   ]
  },
  {
   "cell_type": "code",
   "execution_count": 18,
   "metadata": {},
   "outputs": [
    {
     "name": "stdout",
     "output_type": "stream",
     "text": [
      "6.14875\n"
     ]
    }
   ],
   "source": [
    "print(numpy.mean(data))"
   ]
  },
  {
   "cell_type": "markdown",
   "metadata": {},
   "source": [
    "`mean()` is a function that takes an array as an argument.\n",
    "\n",
    "However, not all functions have input.\n",
    "\n",
    "Generally, a function uses inputs to produce outputs. However, some functions produce outputs without needing any input. For example, checking the current time doesn’t require any input.\n",
    "\n",
    "```\n",
    "import time\n",
    "print(time.ctime())\n",
    "```"
   ]
  },
  {
   "cell_type": "code",
   "execution_count": 19,
   "metadata": {},
   "outputs": [
    {
     "name": "stdout",
     "output_type": "stream",
     "text": [
      "Wed Jul 24 04:21:29 2019\n"
     ]
    }
   ],
   "source": [
    "import time\n",
    "print(time.ctime())"
   ]
  },
  {
   "cell_type": "markdown",
   "metadata": {},
   "source": [
    "For functions that don’t take in any arguments, we still need parentheses `()` to tell Python to go and do something for us.\n",
    "\n",
    "NumPy has lots of useful functions that take an array as input. Let’s use three of those functions to get some descriptive values about the dataset. We’ll also use *multiple assignment*, a convenient Python feature that will enable us to do this all in one line.\n",
    "\n",
    "```\n",
    "maxval, minval, stdval = numpy.max(data), numpy.min(data), numpy.std(data)\n",
    "```"
   ]
  },
  {
   "cell_type": "code",
   "execution_count": 20,
   "metadata": {},
   "outputs": [],
   "source": [
    "maxval, minval, stdval = numpy.max(data), numpy.min(data), numpy.std(data)"
   ]
  },
  {
   "cell_type": "markdown",
   "metadata": {},
   "source": [
    "Here we’ve assigned the return value from `numpy.max(data)` to the variable `maxval`, the return value from `numpy.min(data)` to `minval`, and so on. \n",
    "\n",
    "Let'a have a look at the results:\n",
    "\n",
    "```\n",
    "print('maximum inflammation:', maxval)\n",
    "print('minimum inflammation:', minval)\n",
    "print('standard deviation:', stdval)\n",
    "```"
   ]
  },
  {
   "cell_type": "code",
   "execution_count": 21,
   "metadata": {},
   "outputs": [
    {
     "name": "stdout",
     "output_type": "stream",
     "text": [
      "maximum inflammation: 20.0\n",
      "minimum inflammation: 0.0\n",
      "standard deviation: 4.613833197118566\n"
     ]
    }
   ],
   "source": [
    "print('maximum inflammation:', maxval)\n",
    "print('minimum inflammation:', minval)\n",
    "print('standard deviation:', stdval)"
   ]
  },
  {
   "cell_type": "markdown",
   "metadata": {},
   "source": [
    "#### Mystery Functions in IPython\n",
    "\n",
    "How did we know what functions NumPy has and how to use them? \n",
    "\n",
    "If you are working in IPython or in a Jupyter Notebook (which we are), there is an easy way to find out. If you type the name of something followed by a dot `.`, then you can use `Tab` completion (e.g. type `numpy.` and then press `tab`) to see a list of all functions and attributes that you can use. "
   ]
  },
  {
   "cell_type": "code",
   "execution_count": 22,
   "metadata": {},
   "outputs": [
    {
     "data": {
      "text/plain": [
       "\u001b[0;31mSignature:\u001b[0m \u001b[0mnumpy\u001b[0m\u001b[0;34m.\u001b[0m\u001b[0mcumprod\u001b[0m\u001b[0;34m(\u001b[0m\u001b[0ma\u001b[0m\u001b[0;34m,\u001b[0m \u001b[0maxis\u001b[0m\u001b[0;34m=\u001b[0m\u001b[0;32mNone\u001b[0m\u001b[0;34m,\u001b[0m \u001b[0mdtype\u001b[0m\u001b[0;34m=\u001b[0m\u001b[0;32mNone\u001b[0m\u001b[0;34m,\u001b[0m \u001b[0mout\u001b[0m\u001b[0;34m=\u001b[0m\u001b[0;32mNone\u001b[0m\u001b[0;34m)\u001b[0m\u001b[0;34m\u001b[0m\u001b[0;34m\u001b[0m\u001b[0m\n",
       "\u001b[0;31mDocstring:\u001b[0m\n",
       "Return the cumulative product of elements along a given axis.\n",
       "\n",
       "Parameters\n",
       "----------\n",
       "a : array_like\n",
       "    Input array.\n",
       "axis : int, optional\n",
       "    Axis along which the cumulative product is computed.  By default\n",
       "    the input is flattened.\n",
       "dtype : dtype, optional\n",
       "    Type of the returned array, as well as of the accumulator in which\n",
       "    the elements are multiplied.  If *dtype* is not specified, it\n",
       "    defaults to the dtype of `a`, unless `a` has an integer dtype with\n",
       "    a precision less than that of the default platform integer.  In\n",
       "    that case, the default platform integer is used instead.\n",
       "out : ndarray, optional\n",
       "    Alternative output array in which to place the result. It must\n",
       "    have the same shape and buffer length as the expected output\n",
       "    but the type of the resulting values will be cast if necessary.\n",
       "\n",
       "Returns\n",
       "-------\n",
       "cumprod : ndarray\n",
       "    A new array holding the result is returned unless `out` is\n",
       "    specified, in which case a reference to out is returned.\n",
       "\n",
       "See Also\n",
       "--------\n",
       "numpy.doc.ufuncs : Section \"Output arguments\"\n",
       "\n",
       "Notes\n",
       "-----\n",
       "Arithmetic is modular when using integer types, and no error is\n",
       "raised on overflow.\n",
       "\n",
       "Examples\n",
       "--------\n",
       ">>> a = np.array([1,2,3])\n",
       ">>> np.cumprod(a) # intermediate results 1, 1*2\n",
       "...               # total product 1*2*3 = 6\n",
       "array([1, 2, 6])\n",
       ">>> a = np.array([[1, 2, 3], [4, 5, 6]])\n",
       ">>> np.cumprod(a, dtype=float) # specify type of output\n",
       "array([   1.,    2.,    6.,   24.,  120.,  720.])\n",
       "\n",
       "The cumulative product for each column (i.e., over the rows) of `a`:\n",
       "\n",
       ">>> np.cumprod(a, axis=0)\n",
       "array([[ 1,  2,  3],\n",
       "       [ 4, 10, 18]])\n",
       "\n",
       "The cumulative product for each row (i.e. over the columns) of `a`:\n",
       "\n",
       ">>> np.cumprod(a,axis=1)\n",
       "array([[  1,   2,   6],\n",
       "       [  4,  20, 120]])\n",
       "\u001b[0;31mFile:\u001b[0m      /srv/conda/envs/notebook/lib/python3.7/site-packages/numpy/core/fromnumeric.py\n",
       "\u001b[0;31mType:\u001b[0m      function\n"
      ]
     },
     "metadata": {},
     "output_type": "display_data"
    }
   ],
   "source": [
    "numpy.cumprod?"
   ]
  },
  {
   "cell_type": "markdown",
   "metadata": {},
   "source": [
    "After selecting one, you can also add a question mark `?` (e.g. `numpy.cumprod?`), and IPython will return an explanation of the method! \n",
    "\n",
    "This is the same as running `help(numpy.cumprod)`."
   ]
  },
  {
   "cell_type": "code",
   "execution_count": null,
   "metadata": {},
   "outputs": [],
   "source": []
  },
  {
   "cell_type": "markdown",
   "metadata": {},
   "source": [
    "When analyzing data, though, we often want to look at variations in statistical values, such as the maximum inflammation per patient or the average inflammation per day. One way to do this is to create a new temporary array of the data we want, then ask it to do the calculation:\n",
    "\n",
    "```\n",
    "patient_0 = data[0, :]     # Comment: 0 on the first axis (rows), everything on the second (columns)\n",
    "print('maximum inflammation for patient 0:', numpy.max(patient_0))\n",
    "```"
   ]
  },
  {
   "cell_type": "code",
   "execution_count": 23,
   "metadata": {},
   "outputs": [
    {
     "name": "stdout",
     "output_type": "stream",
     "text": [
      "maximum inflammation for patient 0: 18.0\n"
     ]
    }
   ],
   "source": [
    "patient_0 = data[0, :] # Comment: 0 on the first axis (rows), everything on the second (columns)\n",
    "print('maximum inflammation for patient 0:', numpy.max(patient_0))"
   ]
  },
  {
   "cell_type": "markdown",
   "metadata": {},
   "source": [
    "Everything in a line of code following the `#` symbol is a comment that is ignored by Python. Comments allow programmers to leave explanatory notes for other programmers or their future selves."
   ]
  },
  {
   "cell_type": "code",
   "execution_count": 24,
   "metadata": {},
   "outputs": [],
   "source": [
    "#this is a developer note"
   ]
  },
  {
   "cell_type": "markdown",
   "metadata": {},
   "source": [
    "We don’t actually need to store the row in a variable of its own. Instead, we can combine the selection and the function call:\n",
    "\n",
    "```\n",
    "print('maximum inflammation for patient 2:', numpy.max(data[2, :]))\n",
    "```"
   ]
  },
  {
   "cell_type": "code",
   "execution_count": 25,
   "metadata": {},
   "outputs": [
    {
     "name": "stdout",
     "output_type": "stream",
     "text": [
      "maximum inflammation for patient 2: 19.0\n"
     ]
    }
   ],
   "source": [
    "print(\"maximum inflammation for patient 2:\", numpy.max(data[2, :]))"
   ]
  },
  {
   "cell_type": "markdown",
   "metadata": {},
   "source": [
    "Operations Across Axes\n",
    "\n",
    "What if we need the maximum inflammation for each patient over all days or the average for each day ? In other words want to perform the operation across a different axis.\n",
    "\n",
    "To support this functionality, most array functions allow us to specify the axis we want to work on. If we ask for the average across axis 0 (rows in our 2D example), we get:\n",
    "\n",
    "```\n",
    "print(numpy.mean(data, axis=0))\n",
    "```"
   ]
  },
  {
   "cell_type": "code",
   "execution_count": 26,
   "metadata": {},
   "outputs": [
    {
     "name": "stdout",
     "output_type": "stream",
     "text": [
      "[ 0.          0.45        1.11666667  1.75        2.43333333  3.15\n",
      "  3.8         3.88333333  5.23333333  5.51666667  5.95        5.9\n",
      "  8.35        7.73333333  8.36666667  9.5         9.58333333 10.63333333\n",
      " 11.56666667 12.35       13.25       11.96666667 11.03333333 10.16666667\n",
      " 10.          8.66666667  9.15        7.25        7.33333333  6.58333333\n",
      "  6.06666667  5.95        5.11666667  3.6         3.3         3.56666667\n",
      "  2.48333333  1.5         1.13333333  0.56666667]\n"
     ]
    }
   ],
   "source": [
    "print(numpy.mean(data, axis=0))"
   ]
  },
  {
   "cell_type": "markdown",
   "metadata": {},
   "source": [
    "As a quick check, we can ask this array what its shape is:\n",
    "\n",
    "```\n",
    "print(numpy.mean(data, axis=0).shape)\n",
    "```"
   ]
  },
  {
   "cell_type": "code",
   "execution_count": 27,
   "metadata": {},
   "outputs": [
    {
     "name": "stdout",
     "output_type": "stream",
     "text": [
      "(40,)\n"
     ]
    }
   ],
   "source": [
    "print(numpy.mean(data, axis=0).shape)"
   ]
  },
  {
   "cell_type": "markdown",
   "metadata": {},
   "source": [
    "The results (40,) tells us we have an N×1 vector, so this is the average inflammation per day for all 40 patients. If we average across axis 1 (columns in our  example), we use:\n",
    "\n",
    "```\n",
    "print(numpy.mean(data, axis=1))\n",
    "```"
   ]
  },
  {
   "cell_type": "code",
   "execution_count": 28,
   "metadata": {},
   "outputs": [
    {
     "name": "stdout",
     "output_type": "stream",
     "text": [
      "[5.45  5.425 6.1   5.9   5.55  6.225 5.975 6.65  6.625 6.525 6.775 5.8\n",
      " 6.225 5.75  5.225 6.3   6.55  5.7   5.85  6.55  5.775 5.825 6.175 6.1\n",
      " 5.8   6.425 6.05  6.025 6.175 6.55  6.175 6.35  6.725 6.125 7.075 5.725\n",
      " 5.925 6.15  6.075 5.75  5.975 5.725 6.3   5.9   6.75  5.925 7.225 6.15\n",
      " 5.95  6.275 5.7   6.1   6.825 5.975 6.725 5.7   6.25  6.4   7.05  5.9  ]\n"
     ]
    }
   ],
   "source": [
    "print(numpy.mean(data, axis=1))"
   ]
  },
  {
   "cell_type": "code",
   "execution_count": 29,
   "metadata": {},
   "outputs": [
    {
     "name": "stdout",
     "output_type": "stream",
     "text": [
      "(60,)\n"
     ]
    }
   ],
   "source": [
    "print(numpy.mean(data, axis=1).shape)"
   ]
  },
  {
   "cell_type": "markdown",
   "metadata": {},
   "source": [
    "which is the average inflammation per patient across all days.\n",
    "\n",
    "And if you are now confused, here's a simpler example:\n",
    "\n",
    "```\n",
    "tiny = [[   1,   2,   3],\n",
    "        [  10,  20,  30],\n",
    "        [ 100, 200, 300]]\n",
    "        \n",
    "print(tiny)\n",
    "print('Sum the entire matrix: ', numpy.sum(tiny))\n",
    "```"
   ]
  },
  {
   "cell_type": "code",
   "execution_count": 30,
   "metadata": {},
   "outputs": [
    {
     "name": "stdout",
     "output_type": "stream",
     "text": [
      "[[1, 2, 3], [10, 20, 30], [100, 200, 300]]\n",
      "Sum the entire matrix:  666\n"
     ]
    }
   ],
   "source": [
    "tiny = [[   1,   2,   3],\n",
    "        [  10,  20,  30],\n",
    "        [ 100, 200, 300]]\n",
    "        \n",
    "print(tiny)\n",
    "print('Sum the entire matrix: ', numpy.sum(tiny))"
   ]
  },
  {
   "cell_type": "markdown",
   "metadata": {},
   "source": [
    "Now let's add the rows (first axis, ie zeroth)\n",
    "\n",
    "```\n",
    "print('Sum the columns (ie add the rows): ', numpy.sum(tiny, axis=0))\n",
    "```"
   ]
  },
  {
   "cell_type": "code",
   "execution_count": 31,
   "metadata": {},
   "outputs": [
    {
     "name": "stdout",
     "output_type": "stream",
     "text": [
      "Sum the columns (ie add the rows):  [111 222 333]\n",
      "Sum the columns (ie add the rows):  [ 37.  74. 111.]\n"
     ]
    }
   ],
   "source": [
    "print('Sum the columns (ie add the rows): ', numpy.sum(tiny, axis=0))\n",
    "print('Sum the columns (ie add the rows): ', numpy.mean(tiny, axis=0))"
   ]
  },
  {
   "cell_type": "markdown",
   "metadata": {},
   "source": [
    "and now on the other dimension (axis=1, ie the second dimension)\n",
    "\n",
    "```\n",
    "print('Sum the rows (ie add the columns): ', numpy.sum(tiny, axis=1))\n",
    "```"
   ]
  },
  {
   "cell_type": "code",
   "execution_count": 32,
   "metadata": {},
   "outputs": [
    {
     "name": "stdout",
     "output_type": "stream",
     "text": [
      "Sum the rows (ie add the columns):  [  6  60 600]\n",
      "Sum the rows (ie add the columns):  [  2.  20. 200.]\n"
     ]
    }
   ],
   "source": [
    "print('Sum the rows (ie add the columns): ', numpy.sum(tiny, axis=1))\n",
    "print('Sum the rows (ie add the columns): ', numpy.mean(tiny, axis=1))"
   ]
  },
  {
   "cell_type": "markdown",
   "metadata": {},
   "source": [
    "### Visualising data\n",
    "\n",
    "The mathematician Richard Hamming once said, “The purpose of computing is insight, not numbers,” and the best way to develop insight is often to visualize data.\n",
    "\n",
    "Visualization deserves an entire workshop of its own, but we can explore a few features of Python’s `matplotlib` library here. While there is no official plotting library, `matplotlib` is the de facto standard. First, we will import the `pyplo` module from `matplotlib` and use two of its functions to create and display a heat map of our data:\n",
    "\n",
    "```\n",
    "import matplotlib.pyplot\n",
    "plot = matplotlib.pyplot.imshow(data)\n",
    "```"
   ]
  },
  {
   "cell_type": "code",
   "execution_count": 33,
   "metadata": {},
   "outputs": [],
   "source": [
    "import matplotlib.pyplot"
   ]
  },
  {
   "cell_type": "code",
   "execution_count": 34,
   "metadata": {},
   "outputs": [
    {
     "data": {
      "image/png": "[encoded data removed]",
      "text/plain": [
       "<Figure size 432x288 with 1 Axes>"
      ]
     },
     "metadata": {
      "needs_background": "light"
     },
     "output_type": "display_data"
    }
   ],
   "source": [
    "plot = matplotlib.pyplot.imshow(data)"
   ]
  },
  {
   "cell_type": "markdown",
   "metadata": {},
   "source": [
    "#### Heatmap of the Data\n",
    "\n",
    "Blue pixels in this heat map represent low values, while yellow pixels represent high values. As we can see, inflammation rises and falls over a 40-day period.\n",
    "\n",
    "#### Some IPython Magic\n",
    "\n",
    "If you’re using a Jupyter notebook, you’ll need to execute the following command in order for your matplotlib images to appear in the notebook when show() is called:\n",
    "\n",
    "```\n",
    "%matplotlib inline\n",
    "```"
   ]
  },
  {
   "cell_type": "code",
   "execution_count": 35,
   "metadata": {},
   "outputs": [],
   "source": [
    "%matplotlib inline"
   ]
  },
  {
   "cell_type": "markdown",
   "metadata": {},
   "source": [
    "The `%` indicates an IPython magic function - a function that is only valid within the notebook environment. Note that you only have to execute this function once per notebook."
   ]
  },
  {
   "cell_type": "markdown",
   "metadata": {},
   "source": [
    "Let’s take a look at the average inflammation over time:\n",
    "\n",
    "```\n",
    "ave_inflammation = numpy.mean(data, axis=0)\n",
    "ave_plot = matplotlib.pyplot.plot(ave_inflammation)\n",
    "```"
   ]
  },
  {
   "cell_type": "code",
   "execution_count": 36,
   "metadata": {},
   "outputs": [
    {
     "data": {
      "image/png": "[encoded data removed]",
      "text/plain": [
       "<Figure size 432x288 with 1 Axes>"
      ]
     },
     "metadata": {
      "needs_background": "light"
     },
     "output_type": "display_data"
    }
   ],
   "source": [
    "ave_inflammation = numpy.mean(data, axis=0)\n",
    "ave_plot = matplotlib.pyplot.plot(ave_inflammation)"
   ]
  },
  {
   "cell_type": "markdown",
   "metadata": {},
   "source": [
    "Here, we have put the average per day across all patients in the variable `ave_inflammation`, then asked `matplotlib.pyplot` to create and display a line graph of those values. The result is a roughly linear rise and fall, which is suspicious: we might instead expect a sharper rise and slower fall. \n",
    "\n",
    "Let’s have a look at two other statistics, the maximum inflamation of all the patients each day:\n",
    "```\n",
    "max_plot = matplotlib.pyplot.plot(numpy.max(data, axis=0))\n",
    "```"
   ]
  },
  {
   "cell_type": "code",
   "execution_count": 37,
   "metadata": {},
   "outputs": [
    {
     "data": {
      "image/png": "[encoded data removed]",
      "text/plain": [
       "<Figure size 432x288 with 1 Axes>"
      ]
     },
     "metadata": {
      "needs_background": "light"
     },
     "output_type": "display_data"
    }
   ],
   "source": [
    "max_plot = matplotlib.pyplot.plot(numpy.max(data, axis=0))"
   ]
  },
  {
   "cell_type": "markdown",
   "metadata": {},
   "source": [
    "... and the minimum inflamation across all patient each day ...\n",
    "```\n",
    "min_plot = matplotlib.pyplot.plot(numpy.min(data, axis=0))\n",
    "matplotlib.pyplot.show()\n",
    "```"
   ]
  },
  {
   "cell_type": "code",
   "execution_count": 38,
   "metadata": {},
   "outputs": [
    {
     "data": {
      "image/png": "[encoded data removed]",
      "text/plain": [
       "<Figure size 432x288 with 1 Axes>"
      ]
     },
     "metadata": {
      "needs_background": "light"
     },
     "output_type": "display_data"
    }
   ],
   "source": [
    "min_plot = matplotlib.pyplot.plot(numpy.min(data, axis=0))\n",
    "matplotlib.pyplot.show()"
   ]
  },
  {
   "cell_type": "markdown",
   "metadata": {},
   "source": [
    "The maximum value rises and falls smoothly, while the minimum seems to be a step function. Neither trend seems particularly likely, so either there’s a mistake in our calculations or something is wrong with our data. This insight would have been difficult to reach by examining the numbers themselves without visualization tools."
   ]
  },
  {
   "cell_type": "markdown",
   "metadata": {},
   "source": [
    "### Grouping plots\n",
    "\n",
    "You can group similar plots in a single figure using subplots. This script below uses a number of new commands. The function `matplotlib.pyplot.figure()` creates a space into which we will place all of our plots. The parameter `figsize` tells Python how big to make this space. \n",
    "\n",
    "Each subplot is placed into the figure using its `add_subplot` method. The `add_subplot` method takes 3 parameters. The first denotes how many total rows of subplots there are, the second parameter refers to the total number of subplot columns, and the final parameter denotes which subplot your variable is referencing (left-to-right, top-to-bottom). Each subplot is stored in a different variable (`axes1`, `axes2`, `axes3`). \n",
    "\n",
    "Once a subplot is created, the axes can be labeled using the `set_xlabel()` command (or `set_ylabel()`). Here are our three plots side by side:\n"
   ]
  },
  {
   "cell_type": "code",
   "execution_count": 46,
   "metadata": {},
   "outputs": [
    {
     "data": {
      "image/png": "[encoded data removed]",
      "text/plain": [
       "<Figure size 1080x1080 with 3 Axes>"
      ]
     },
     "metadata": {
      "needs_background": "light"
     },
     "output_type": "display_data"
    }
   ],
   "source": [
    "import numpy\n",
    "import matplotlib.pyplot\n",
    "\n",
    "data = numpy.loadtxt(fname='data/inflammation-01.csv', delimiter=',')\n",
    "\n",
    "fig = matplotlib.pyplot.figure(figsize=(15.0, 15.0))\n",
    "\n",
    "axes1 = fig.add_subplot(3, 3, 1)\n",
    "axes2 = fig.add_subplot(3, 3, 5)\n",
    "axes3 = fig.add_subplot(3, 3, 9)\n",
    "\n",
    "axes1.set_ylabel('average')\n",
    "axes1.set_xlabel('days')\n",
    "axes1.plot(numpy.mean(data, axis=0))\n",
    "\n",
    "axes2.set_ylabel('max')\n",
    "axes2.set_xlabel('days')\n",
    "axes2.plot(numpy.max(data, axis=0))\n",
    "\n",
    "axes3.set_ylabel('min')\n",
    "axes3.set_xlabel('days')\n",
    "axes3.plot(numpy.min(data, axis=0))\n",
    "\n",
    "fig.tight_layout()\n"
   ]
  },
  {
   "cell_type": "markdown",
   "metadata": {},
   "source": [
    "##### The Previous Plots as Subplots\n",
    "\n",
    "The call to `loadtxt` reads our data, and the rest of the program tells the plotting library how large we want the figure to be, that we’re creating three subplots, what to draw for each one, and that we want a tight layout. (If we leave out that call to fig.tight_layout()`, the graphs will actually be squeezed together more closely.)"
   ]
  },
  {
   "cell_type": "markdown",
   "metadata": {},
   "source": [
    "Exercise: See if you add the label `Days` to the X-Axis of each subplot"
   ]
  },
  {
   "cell_type": "code",
   "execution_count": null,
   "metadata": {},
   "outputs": [],
   "source": []
  },
  {
   "cell_type": "markdown",
   "metadata": {},
   "source": [
    "##### Scientists Dislike Typing. \n",
    "We will always use the syntax `import numpy` to import NumPy. However, in order to save typing, it is often suggested to make a shortcut like so: `import numpy as np`. If you ever see Python code online using a NumPy function with np (for example, `np.loadtxt(...))`, it’s because they’ve used this shortcut. When working with other people, it is important to agree on a convention of how common libraries are imported.\n",
    "\n",
    "In other words:\n",
    "\n",
    "```\n",
    "import numpy\n",
    "numpy.random.rand()\n",
    "```\n",
    "\n",
    "is the same as:\n",
    "\n",
    "```\n",
    "import numpy as np\n",
    "np.random.rand()\n",
    "```\n"
   ]
  },
  {
   "cell_type": "code",
   "execution_count": null,
   "metadata": {},
   "outputs": [],
   "source": []
  },
  {
   "cell_type": "markdown",
   "metadata": {},
   "source": []
  },
  {
   "cell_type": "markdown",
   "metadata": {},
   "source": [
    "## Exercises"
   ]
  },
  {
   "cell_type": "markdown",
   "metadata": {},
   "source": [
    "### Variables\n",
    "\n",
    "What values do the variables mass and age have after each statement in the following program? \n",
    "```\n",
    "mass = 47.5\n",
    "age = 122\n",
    "mass = mass * 2.0a\n",
    "age = age - 20\n",
    "print(mass, age)\n",
    "```\n",
    "Test your answers by executing the commands."
   ]
  },
  {
   "cell_type": "code",
   "execution_count": 47,
   "metadata": {},
   "outputs": [
    {
     "name": "stdout",
     "output_type": "stream",
     "text": [
      "95.0 102\n"
     ]
    }
   ],
   "source": [
    "mass = 47.5\n",
    "age = 122\n",
    "mass = mass * 2.0\n",
    "age = age - 20\n",
    "print(mass, age)"
   ]
  },
  {
   "cell_type": "markdown",
   "metadata": {},
   "source": [
    "Solution: Mass = 95, Age = 102"
   ]
  },
  {
   "cell_type": "markdown",
   "metadata": {},
   "source": [
    "### Sorting Out References\n",
    "\n",
    "What does the following program print out?\n",
    "```\n",
    "first, second = 'Grace', 'Hopper'\n",
    "third, fourth = second, first\n",
    "print(third, fourth)\n",
    "```"
   ]
  },
  {
   "cell_type": "code",
   "execution_count": null,
   "metadata": {},
   "outputs": [],
   "source": []
  },
  {
   "cell_type": "markdown",
   "metadata": {},
   "source": [
    "Solution:"
   ]
  },
  {
   "cell_type": "markdown",
   "metadata": {},
   "source": [
    "### Slicing Strings\n",
    "A section of an array is called a slice. We can take slices of character strings as well:\n",
    "```\n",
    "element = 'oxygen'\n",
    "print('first three characters:', element[0:3])\n",
    "print('last three characters:', element[3:6])\n",
    "```\n",
    "\n",
    "What is the value of `element[:4]` ? What about `element[4:]`? Or `element[:]` ?\n",
    "\n",
    "What about `element[-1]` and `element[-2]` ?"
   ]
  },
  {
   "cell_type": "code",
   "execution_count": null,
   "metadata": {},
   "outputs": [],
   "source": []
  },
  {
   "cell_type": "markdown",
   "metadata": {},
   "source": [
    "Solution:"
   ]
  },
  {
   "cell_type": "markdown",
   "metadata": {},
   "source": [
    "Given those answers, explain what `element[1:-1]` does."
   ]
  },
  {
   "cell_type": "code",
   "execution_count": null,
   "metadata": {},
   "outputs": [],
   "source": []
  },
  {
   "cell_type": "markdown",
   "metadata": {},
   "source": [
    "Solution: "
   ]
  },
  {
   "cell_type": "markdown",
   "metadata": {},
   "source": [
    "### Thin Slices\n",
    "\n",
    "The expression `element[3:3]` produces an empty string, i.e., a string that contains no characters. If data holds our array of patient data, what does `data[3:3, 4:4]` produce? What about `data[3:3, :]` ?"
   ]
  },
  {
   "cell_type": "code",
   "execution_count": null,
   "metadata": {},
   "outputs": [],
   "source": []
  },
  {
   "cell_type": "markdown",
   "metadata": {},
   "source": [
    "Solution:"
   ]
  },
  {
   "cell_type": "markdown",
   "metadata": {},
   "source": [
    "### Plot Scaling\n",
    "Why do all of our plots stop just short of the upper end of our graph?"
   ]
  },
  {
   "cell_type": "markdown",
   "metadata": {},
   "source": [
    "Solution:"
   ]
  },
  {
   "cell_type": "markdown",
   "metadata": {},
   "source": [
    "If we want to change this, we can use the `set_ylim(min, max)` method of each ‘axes’, for example:\n",
    "```\n",
    "axes3.set_ylim(0,6)\n",
    "```\n",
    "Update your plotting code to automatically set a more appropriate scale. (Hint: you can make use of the max and min methods to help.)"
   ]
  },
  {
   "cell_type": "code",
   "execution_count": null,
   "metadata": {},
   "outputs": [],
   "source": []
  },
  {
   "cell_type": "markdown",
   "metadata": {},
   "source": [
    "### Drawing Straight Lines\n",
    "In the center and right subplots above, we expect all lines to look like step functions because non-integer value are not realistic for the minimum and maximum values. However, you can see that the lines are not always vertical or horizontal, and in particular the step function in the subplot on the right looks slanted. Why is this?\n",
    "\n",
    "Try adding a `drawstyle` parameter to your plotting:\n",
    "```\n",
    "axes2.set_ylabel('average')\n",
    "axes2.plot(numpy.mean(data, axis=0), drawstyle='steps-mid')\n",
    "```"
   ]
  },
  {
   "cell_type": "markdown",
   "metadata": {},
   "source": [
    "Solution:"
   ]
  },
  {
   "cell_type": "markdown",
   "metadata": {},
   "source": [
    "### Make Your Own Plot\n",
    "Create a plot showing the standard deviation (using `numpy.std`) of the inflammation data for each day across all patients."
   ]
  },
  {
   "cell_type": "code",
   "execution_count": null,
   "metadata": {},
   "outputs": [],
   "source": []
  },
  {
   "cell_type": "markdown",
   "metadata": {},
   "source": [
    "### Moving Plots Around\n",
    "Modify the program to display the three plots vertically rather than side by side."
   ]
  },
  {
   "cell_type": "code",
   "execution_count": null,
   "metadata": {},
   "outputs": [],
   "source": []
  },
  {
   "cell_type": "markdown",
   "metadata": {},
   "source": [
    "### Stacking Arrays\n",
    "Arrays can be concatenated and stacked on top of one another, using NumPy’s `vstack` and `hstack` functions for vertical and horizontal stacking, respectively.\n",
    "\n",
    "Run the following code to view `A`, `B` and `C`\n"
   ]
  },
  {
   "cell_type": "code",
   "execution_count": null,
   "metadata": {},
   "outputs": [],
   "source": [
    "import numpy\n",
    "\n",
    "A = numpy.array([[1,2,3], [4,5,6], [7, 8, 9]])\n",
    "print('A = ')\n",
    "print(A)\n",
    "\n",
    "B = numpy.hstack([A, A])\n",
    "print('B = ')\n",
    "print(B)\n",
    "\n",
    "C = numpy.vstack([A, A])\n",
    "print('C = ')\n",
    "print(C)"
   ]
  },
  {
   "cell_type": "markdown",
   "metadata": {},
   "source": [
    "Write some additional code that slices the first and last columns of `A`,\n",
    "and stacks them into a 3x2 array. Make sure to print the results to verify your solution."
   ]
  },
  {
   "cell_type": "code",
   "execution_count": null,
   "metadata": {},
   "outputs": [],
   "source": [
    "print(A[:,0]) # all rows from first column\n",
    "\n",
    "print(result)"
   ]
  },
  {
   "cell_type": "markdown",
   "metadata": {},
   "source": [
    "### Change In Inflammation\n",
    "This patient data is longitudinal in the sense that each row represents a series of observations relating to one individual. This means that the change in inflammation over time is a meaningful concept.\n",
    "\n",
    "The `numpy.diff()` function takes a NumPy array and returns the differences between two successive values along a specified axis. For example, with the following `numpy.array`:\n",
    "\n",
    "```\n",
    "npdiff = numpy.array([ 0,  2,  5,  9, 14])\n",
    "```\n",
    "\n",
    "Calling `numpy.diff(npdiff)` would do the following calculations \n",
    "\n",
    "`2 - 0`, `5 - 2`, `9 - 5`, `14 - 9`\n",
    "\n",
    "and produce the following array.\n",
    "\n",
    "`[2, 3, 4, 5]`"
   ]
  },
  {
   "cell_type": "code",
   "execution_count": null,
   "metadata": {},
   "outputs": [],
   "source": [
    "npdiff = numpy.array([ 0,  2,  5,  9, 14])\n",
    "numpy.diff(npdiff)"
   ]
  },
  {
   "cell_type": "markdown",
   "metadata": {},
   "source": [
    "In our `data` Which axis would it make sense to use this function along?"
   ]
  },
  {
   "cell_type": "markdown",
   "metadata": {},
   "source": [
    "Solution"
   ]
  },
  {
   "cell_type": "markdown",
   "metadata": {},
   "source": [
    "If the shape of an individual data file is (60, 40) (60 rows and 40 columns), what would the shape of the array be after you run the diff() function and why?"
   ]
  },
  {
   "cell_type": "markdown",
   "metadata": {},
   "source": [
    "Solution"
   ]
  },
  {
   "cell_type": "markdown",
   "metadata": {},
   "source": [
    "How would you find the largest change in inflammation for each patient? Does it matter if the change in inflammation is an increase or a decrease?  Hint: NumPy has a function called `numpy.absolute()`,"
   ]
  },
  {
   "cell_type": "markdown",
   "metadata": {},
   "source": [
    "Solution:"
   ]
  },
  {
   "cell_type": "markdown",
   "metadata": {},
   "source": [
    "## Key Points\n",
    "Import a library into a program using import library_name.\n",
    "\n",
    "Use the numpy library to work with arrays in Python.\n",
    "\n",
    "Use `variable` `=` `value` to assign a value to a variable in order to record it in memory.\n",
    "\n",
    "Variables are created on demand whenever a value is assigned to them.\n",
    "\n",
    "Use `print(something)` to display the value of something.\n",
    "\n",
    "The expression `array.shape` gives the shape of an array.\n",
    "\n",
    "Use `array[x, y]` to select a single element from a 2D array.\n",
    "\n",
    "Array indices start at 0, not 1.\n",
    "\n",
    "Use `low:high` to specify a slice that includes the indices from low to high-1.\n",
    "\n",
    "All the indexing and slicing that works on arrays also works on strings.\n",
    "\n",
    "Use `#` and some kind of explanation to add comments to programs.\n",
    "\n",
    "Use `numpy.mean(array)`, `numpy.max(array)`, and `numpy.min(array)` to calculate simple statistics.\n",
    "\n",
    "Use `numpy.mean(array, axis=0)` or `numpy.mean(array, axis=1)` to calculate statistics across the specified axis.\n",
    "\n",
    "Use the `pyplot` library from `matplotlib` for creating simple visualizations."
   ]
  },
  {
   "cell_type": "markdown",
   "metadata": {},
   "source": [
    "### Save, and version control your changes\n",
    "\n",
    "- save your work: `File -> Save`\n",
    "- add all your changes to your local repository: `Terminal -> git add .`\n",
    "- commit your updates a new Git version:  `Terminal -> git commit -m \"End of Episode 2\"`\n",
    "- push your lastest commits to GitHub: `Terminal -> git push`"
   ]
  }
 ],
 "metadata": {
  "kernelspec": {
   "display_name": "Python 3",
   "language": "python",
   "name": "python3"
  },
  "language_info": {
   "codemirror_mode": {
    "name": "ipython",
    "version": 3
   },
   "file_extension": ".py",
   "mimetype": "text/x-python",
   "name": "python",
   "nbconvert_exporter": "python",
   "pygments_lexer": "ipython3",
   "version": "3.7.3"
  }
 },
 "nbformat": 4,
 "nbformat_minor": 2
}
